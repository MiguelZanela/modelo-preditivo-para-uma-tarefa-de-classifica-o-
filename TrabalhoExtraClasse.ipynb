{
 "cells": [
  {
   "cell_type": "markdown",
   "metadata": {
    "id": "2XPU19YG20wJ"
   },
   "source": [
    "# Jupyter para o trabalho de SGBD"
   ]
  },
  {
   "cell_type": "markdown",
   "metadata": {
    "id": "IHK9LJOn9kIO"
   },
   "source": [
    "**Nomes dos integrantes:** Felipe Fahrion, Jonathan Cardarelli, Miguel Zanela\n",
    "\n",
    "**Base de dados escolhida:** Contraceptive Method Choice Data Set http://archive.ics.uci.edu/ml/datasets/Contraceptive+Method+Choice\n",
    "\n",
    "**Coluna alvo:** Contraceptive Method Used\n",
    "\n",
    "**Objetivo do modelo:** É prever a escolha do método anticoncepcional atual (sem uso, métodos de longo prazo ou métodos de curto prazo) de mulheres que residem na Indonésia com base em suas características demográficas e socioeconômicas.\n",
    "\n",
    "**Justificativa da escolha:** Prever qual o método contraceptivo será utilizado por mulheres com base em suas características demográficas e socioeconômicas e com isso será possível criar campanhas de conscientização direcionadas ao público suscetível ao não uso de métodos contraceptivos."
   ]
  },
  {
   "cell_type": "markdown",
   "metadata": {
    "id": "GPEUU4bY3THi"
   },
   "source": [
    "# Análise exploratória\n",
    "\n"
   ]
  },
  {
   "cell_type": "markdown",
   "metadata": {
    "id": "x_M4j6U-4h81"
   },
   "source": [
    "- Imports"
   ]
  },
  {
   "cell_type": "code",
   "execution_count": 1,
   "metadata": {
    "id": "kEaWDcUE4gsg"
   },
   "outputs": [],
   "source": [
    "import pandas as pd\n",
    "import matplotlib.pyplot as plt\n",
    "import numpy as np\n",
    "import scipy.stats as stats\n",
    "from sklearn.model_selection import train_test_split\n",
    "\n",
    "from sklearn.metrics import confusion_matrix\n",
    "from sklearn.metrics import precision_score   \n",
    "from sklearn.metrics import recall_score      \n",
    "from sklearn.metrics import f1_score          "
   ]
  },
  {
   "cell_type": "markdown",
   "metadata": {
    "id": "BEokCWH24oOz"
   },
   "source": [
    "- Selecionando a base de dados a ser trabalhada"
   ]
  },
  {
   "cell_type": "code",
   "execution_count": 2,
   "metadata": {
    "id": "4bEmpEQ4GVVM"
   },
   "outputs": [],
   "source": [
    "df = pd.read_csv('cmc-dados.csv')"
   ]
  },
  {
   "cell_type": "markdown",
   "metadata": {
    "id": "Gbz_2wmuxbxy"
   },
   "source": [
    "- Informações gerais sobre a base de dados"
   ]
  },
  {
   "cell_type": "code",
   "execution_count": 3,
   "metadata": {
    "colab": {
     "base_uri": "https://localhost:8080/"
    },
    "id": "H9WZ9mM_6TIE",
    "outputId": "147023e2-ea0f-4f11-a666-002febd6c5c5"
   },
   "outputs": [
    {
     "name": "stdout",
     "output_type": "stream",
     "text": [
      "<class 'pandas.core.frame.DataFrame'>\n",
      "RangeIndex: 1473 entries, 0 to 1472\n",
      "Data columns (total 10 columns):\n",
      " #   Column                        Non-Null Count  Dtype\n",
      "---  ------                        --------------  -----\n",
      " 0   Wife age                      1473 non-null   int64\n",
      " 1   Wife education                1473 non-null   int64\n",
      " 2   Husband education             1473 non-null   int64\n",
      " 3   Number of children ever born  1473 non-null   int64\n",
      " 4   Wife religion                 1473 non-null   int64\n",
      " 5   Wife now working              1473 non-null   int64\n",
      " 6   Husband occupation            1473 non-null   int64\n",
      " 7   Standard-of-living index      1473 non-null   int64\n",
      " 8   Media exposure                1473 non-null   int64\n",
      " 9   Contraceptive method used     1473 non-null   int64\n",
      "dtypes: int64(10)\n",
      "memory usage: 115.2 KB\n"
     ]
    }
   ],
   "source": [
    "df.info()"
   ]
  },
  {
   "cell_type": "markdown",
   "metadata": {
    "id": "pyor-C73xDSs"
   },
   "source": [
    "- Listando as primeiras linhas"
   ]
  },
  {
   "cell_type": "code",
   "execution_count": 4,
   "metadata": {
    "colab": {
     "base_uri": "https://localhost:8080/",
     "height": 376
    },
    "id": "uf70z0Jkp_-E",
    "outputId": "5c620129-3f77-4ea1-a063-24128b9d33cc"
   },
   "outputs": [
    {
     "data": {
      "text/html": [
       "<div>\n",
       "<style scoped>\n",
       "    .dataframe tbody tr th:only-of-type {\n",
       "        vertical-align: middle;\n",
       "    }\n",
       "\n",
       "    .dataframe tbody tr th {\n",
       "        vertical-align: top;\n",
       "    }\n",
       "\n",
       "    .dataframe thead th {\n",
       "        text-align: right;\n",
       "    }\n",
       "</style>\n",
       "<table border=\"1\" class=\"dataframe\">\n",
       "  <thead>\n",
       "    <tr style=\"text-align: right;\">\n",
       "      <th></th>\n",
       "      <th>Wife age</th>\n",
       "      <th>Wife education</th>\n",
       "      <th>Husband education</th>\n",
       "      <th>Number of children ever born</th>\n",
       "      <th>Wife religion</th>\n",
       "      <th>Wife now working</th>\n",
       "      <th>Husband occupation</th>\n",
       "      <th>Standard-of-living index</th>\n",
       "      <th>Media exposure</th>\n",
       "      <th>Contraceptive method used</th>\n",
       "    </tr>\n",
       "  </thead>\n",
       "  <tbody>\n",
       "    <tr>\n",
       "      <th>0</th>\n",
       "      <td>24</td>\n",
       "      <td>2</td>\n",
       "      <td>3</td>\n",
       "      <td>3</td>\n",
       "      <td>1</td>\n",
       "      <td>1</td>\n",
       "      <td>2</td>\n",
       "      <td>3</td>\n",
       "      <td>0</td>\n",
       "      <td>1</td>\n",
       "    </tr>\n",
       "    <tr>\n",
       "      <th>1</th>\n",
       "      <td>45</td>\n",
       "      <td>1</td>\n",
       "      <td>3</td>\n",
       "      <td>10</td>\n",
       "      <td>1</td>\n",
       "      <td>1</td>\n",
       "      <td>3</td>\n",
       "      <td>4</td>\n",
       "      <td>0</td>\n",
       "      <td>1</td>\n",
       "    </tr>\n",
       "    <tr>\n",
       "      <th>2</th>\n",
       "      <td>43</td>\n",
       "      <td>2</td>\n",
       "      <td>3</td>\n",
       "      <td>7</td>\n",
       "      <td>1</td>\n",
       "      <td>1</td>\n",
       "      <td>3</td>\n",
       "      <td>4</td>\n",
       "      <td>0</td>\n",
       "      <td>1</td>\n",
       "    </tr>\n",
       "    <tr>\n",
       "      <th>3</th>\n",
       "      <td>42</td>\n",
       "      <td>3</td>\n",
       "      <td>2</td>\n",
       "      <td>9</td>\n",
       "      <td>1</td>\n",
       "      <td>1</td>\n",
       "      <td>3</td>\n",
       "      <td>3</td>\n",
       "      <td>0</td>\n",
       "      <td>1</td>\n",
       "    </tr>\n",
       "    <tr>\n",
       "      <th>4</th>\n",
       "      <td>36</td>\n",
       "      <td>3</td>\n",
       "      <td>3</td>\n",
       "      <td>8</td>\n",
       "      <td>1</td>\n",
       "      <td>1</td>\n",
       "      <td>3</td>\n",
       "      <td>2</td>\n",
       "      <td>0</td>\n",
       "      <td>1</td>\n",
       "    </tr>\n",
       "    <tr>\n",
       "      <th>5</th>\n",
       "      <td>19</td>\n",
       "      <td>4</td>\n",
       "      <td>4</td>\n",
       "      <td>0</td>\n",
       "      <td>1</td>\n",
       "      <td>1</td>\n",
       "      <td>3</td>\n",
       "      <td>3</td>\n",
       "      <td>0</td>\n",
       "      <td>1</td>\n",
       "    </tr>\n",
       "    <tr>\n",
       "      <th>6</th>\n",
       "      <td>38</td>\n",
       "      <td>2</td>\n",
       "      <td>3</td>\n",
       "      <td>6</td>\n",
       "      <td>1</td>\n",
       "      <td>1</td>\n",
       "      <td>3</td>\n",
       "      <td>2</td>\n",
       "      <td>0</td>\n",
       "      <td>1</td>\n",
       "    </tr>\n",
       "    <tr>\n",
       "      <th>7</th>\n",
       "      <td>21</td>\n",
       "      <td>3</td>\n",
       "      <td>3</td>\n",
       "      <td>1</td>\n",
       "      <td>1</td>\n",
       "      <td>0</td>\n",
       "      <td>3</td>\n",
       "      <td>2</td>\n",
       "      <td>0</td>\n",
       "      <td>1</td>\n",
       "    </tr>\n",
       "    <tr>\n",
       "      <th>8</th>\n",
       "      <td>27</td>\n",
       "      <td>2</td>\n",
       "      <td>3</td>\n",
       "      <td>3</td>\n",
       "      <td>1</td>\n",
       "      <td>1</td>\n",
       "      <td>3</td>\n",
       "      <td>4</td>\n",
       "      <td>0</td>\n",
       "      <td>1</td>\n",
       "    </tr>\n",
       "    <tr>\n",
       "      <th>9</th>\n",
       "      <td>45</td>\n",
       "      <td>1</td>\n",
       "      <td>1</td>\n",
       "      <td>8</td>\n",
       "      <td>1</td>\n",
       "      <td>1</td>\n",
       "      <td>2</td>\n",
       "      <td>2</td>\n",
       "      <td>1</td>\n",
       "      <td>1</td>\n",
       "    </tr>\n",
       "  </tbody>\n",
       "</table>\n",
       "</div>"
      ],
      "text/plain": [
       "   Wife age  Wife education  Husband education  Number of children ever born  \\\n",
       "0        24               2                  3                             3   \n",
       "1        45               1                  3                            10   \n",
       "2        43               2                  3                             7   \n",
       "3        42               3                  2                             9   \n",
       "4        36               3                  3                             8   \n",
       "5        19               4                  4                             0   \n",
       "6        38               2                  3                             6   \n",
       "7        21               3                  3                             1   \n",
       "8        27               2                  3                             3   \n",
       "9        45               1                  1                             8   \n",
       "\n",
       "   Wife religion  Wife now working  Husband occupation  \\\n",
       "0              1                 1                   2   \n",
       "1              1                 1                   3   \n",
       "2              1                 1                   3   \n",
       "3              1                 1                   3   \n",
       "4              1                 1                   3   \n",
       "5              1                 1                   3   \n",
       "6              1                 1                   3   \n",
       "7              1                 0                   3   \n",
       "8              1                 1                   3   \n",
       "9              1                 1                   2   \n",
       "\n",
       "   Standard-of-living index  Media exposure  Contraceptive method used  \n",
       "0                         3               0                          1  \n",
       "1                         4               0                          1  \n",
       "2                         4               0                          1  \n",
       "3                         3               0                          1  \n",
       "4                         2               0                          1  \n",
       "5                         3               0                          1  \n",
       "6                         2               0                          1  \n",
       "7                         2               0                          1  \n",
       "8                         4               0                          1  \n",
       "9                         2               1                          1  "
      ]
     },
     "execution_count": 4,
     "metadata": {},
     "output_type": "execute_result"
    }
   ],
   "source": [
    "df.head(10)"
   ]
  },
  {
   "cell_type": "markdown",
   "metadata": {
    "id": "Zn6KK8lZxwbV"
   },
   "source": [
    "- Verificando a quantidade de valores nas colunas"
   ]
  },
  {
   "cell_type": "code",
   "execution_count": 5,
   "metadata": {
    "colab": {
     "base_uri": "https://localhost:8080/"
    },
    "id": "4oQxqjblqADe",
    "outputId": "6ba1e0a2-095c-423b-f670-ebddfee6244f"
   },
   "outputs": [
    {
     "data": {
      "text/plain": [
       "1    1253\n",
       "0     220\n",
       "Name: Wife religion, dtype: int64"
      ]
     },
     "execution_count": 5,
     "metadata": {},
     "output_type": "execute_result"
    }
   ],
   "source": [
    "df['Wife religion'].value_counts()"
   ]
  },
  {
   "cell_type": "code",
   "execution_count": 6,
   "metadata": {
    "colab": {
     "base_uri": "https://localhost:8080/"
    },
    "id": "MlSxuBtiy1MV",
    "outputId": "2e69da3a-ed06-46d7-c195-e8b22fed00f1"
   },
   "outputs": [
    {
     "data": {
      "text/plain": [
       "0    1364\n",
       "1     109\n",
       "Name: Media exposure, dtype: int64"
      ]
     },
     "execution_count": 6,
     "metadata": {},
     "output_type": "execute_result"
    }
   ],
   "source": [
    "df['Media exposure'].value_counts()"
   ]
  },
  {
   "cell_type": "code",
   "execution_count": 7,
   "metadata": {
    "colab": {
     "base_uri": "https://localhost:8080/"
    },
    "id": "Ms3dqadwy1To",
    "outputId": "4bfe101a-212b-4311-8f75-2446c56e5d66"
   },
   "outputs": [
    {
     "data": {
      "text/plain": [
       "1    1104\n",
       "0     369\n",
       "Name: Wife now working, dtype: int64"
      ]
     },
     "execution_count": 7,
     "metadata": {},
     "output_type": "execute_result"
    }
   ],
   "source": [
    "df['Wife now working'].value_counts()"
   ]
  },
  {
   "cell_type": "markdown",
   "metadata": {
    "id": "l15mTBHZ43ZK"
   },
   "source": [
    "- Separando os tipos de atributos"
   ]
  },
  {
   "cell_type": "code",
   "execution_count": 8,
   "metadata": {
    "id": "xVO8XuwD3AhV"
   },
   "outputs": [],
   "source": [
    "atributos_numericos   = ['Wife age','Number of children ever born']\n",
    "atributos_categoricos = ['Wife education','Husband education','Husband occupation','Standard-of-living index']\n",
    "atributos_binarios    = ['Wife religion','Wife now working','Media exposure']"
   ]
  },
  {
   "cell_type": "markdown",
   "metadata": {
    "id": "LWxGC1GI2YUM"
   },
   "source": [
    "- Calculando e imprimindo histogramas sobre todas as colunas"
   ]
  },
  {
   "cell_type": "code",
   "execution_count": 9,
   "metadata": {
    "colab": {
     "base_uri": "https://localhost:8080/",
     "height": 879
    },
    "id": "QGT1godVy1YH",
    "outputId": "0807b3ad-a7b1-471e-e5d2-61374d7eed6f"
   },
   "outputs": [
    {
     "data": {
      "image/png": "[encoded data removed]",
      "text/plain": [
       "<Figure size 1440x1080 with 12 Axes>"
      ]
     },
     "metadata": {
      "needs_background": "light"
     },
     "output_type": "display_data"
    }
   ],
   "source": [
    "df.hist(bins=50, figsize=(20,15))\n",
    "plt.show()"
   ]
  },
  {
   "cell_type": "markdown",
   "metadata": {
    "id": "7RfFmJCr21dE"
   },
   "source": [
    "- Gráficos de dispersão comparando todas as colunas entre si"
   ]
  },
  {
   "cell_type": "code",
   "execution_count": 10,
   "metadata": {
    "colab": {
     "base_uri": "https://localhost:8080/",
     "height": 334
    },
    "id": "E0mEyKYty1cO",
    "outputId": "d3adefa7-808b-4be0-c9a7-0278f8d22f0b"
   },
   "outputs": [
    {
     "data": {
      "image/png": "[encoded data removed]",
      "text/plain": [
       "<Figure size 360x360 with 4 Axes>"
      ]
     },
     "metadata": {
      "needs_background": "light"
     },
     "output_type": "display_data"
    }
   ],
   "source": [
    "pd.plotting.scatter_matrix(df[atributos_numericos],figsize=(5, 5))\n",
    "plt.show()"
   ]
  },
  {
   "cell_type": "markdown",
   "metadata": {
    "id": "0nL9RRoQ5-Xq"
   },
   "source": [
    "- Calculando uma matríz de correlações entre as colunas preditivas numéricas escolhidas"
   ]
  },
  {
   "cell_type": "code",
   "execution_count": 11,
   "metadata": {
    "colab": {
     "base_uri": "https://localhost:8080/"
    },
    "id": "WhZS2BCq502j",
    "outputId": "5b3efcff-6a94-4d01-faa7-fce879d03053"
   },
   "outputs": [
    {
     "data": {
      "text/plain": [
       "array([[1.        , 0.54012589],\n",
       "       [0.54012589, 1.        ]])"
      ]
     },
     "execution_count": 11,
     "metadata": {},
     "output_type": "execute_result"
    }
   ],
   "source": [
    "corr = np.corrcoef(df[atributos_numericos],rowvar=False)\n",
    "corr"
   ]
  },
  {
   "cell_type": "markdown",
   "metadata": {
    "id": "5MYOeKFQeViB"
   },
   "source": [
    "  # Pré-processamento"
   ]
  },
  {
   "cell_type": "markdown",
   "metadata": {
    "id": "UVHqZE_J4Cfz"
   },
   "source": [
    "- Imports"
   ]
  },
  {
   "cell_type": "code",
   "execution_count": 12,
   "metadata": {
    "id": "l0xzqoOP4HZI"
   },
   "outputs": [],
   "source": [
    "from sklearn.model_selection import train_test_split"
   ]
  },
  {
   "cell_type": "markdown",
   "metadata": {
    "id": "8TIPa3eEUM_y"
   },
   "source": [
    "- transformando nossa coluna alvo em binaria"
   ]
  },
  {
   "cell_type": "code",
   "execution_count": 13,
   "metadata": {
    "colab": {
     "base_uri": "https://localhost:8080/"
    },
    "id": "1OdNtBOcP-My",
    "outputId": "a2df68da-f68d-4f7c-9be9-124e660fe5ce"
   },
   "outputs": [
    {
     "data": {
      "text/plain": [
       "1    844\n",
       "0    629\n",
       "Name: Contraceptive method used bin, dtype: int64"
      ]
     },
     "execution_count": 13,
     "metadata": {},
     "output_type": "execute_result"
    }
   ],
   "source": [
    "df['Contraceptive method used bin'] = 0\n",
    "df.loc[df['Contraceptive method used']==2,'Contraceptive method used bin'] = 1\n",
    "df.loc[df['Contraceptive method used']==3,'Contraceptive method used bin'] = 1\n",
    "\n",
    "df['Contraceptive method used bin'].value_counts()"
   ]
  },
  {
   "cell_type": "markdown",
   "metadata": {
    "id": "fRX4aKngURHf"
   },
   "source": [
    "- aplicando a transformação de coluna alvo númerica para string"
   ]
  },
  {
   "cell_type": "code",
   "execution_count": 14,
   "metadata": {
    "id": "aI3tIaXPbwMI"
   },
   "outputs": [],
   "source": [
    "df['Contraceptive method used'] = df['Contraceptive method used bin'].apply(str)"
   ]
  },
  {
   "cell_type": "code",
   "execution_count": 15,
   "metadata": {
    "colab": {
     "base_uri": "https://localhost:8080/"
    },
    "id": "TYfDyAwscRal",
    "outputId": "742699a3-cc97-4640-9d80-67f2baa9e42e"
   },
   "outputs": [
    {
     "name": "stdout",
     "output_type": "stream",
     "text": [
      "<class 'pandas.core.frame.DataFrame'>\n",
      "RangeIndex: 1473 entries, 0 to 1472\n",
      "Data columns (total 11 columns):\n",
      " #   Column                         Non-Null Count  Dtype \n",
      "---  ------                         --------------  ----- \n",
      " 0   Wife age                       1473 non-null   int64 \n",
      " 1   Wife education                 1473 non-null   int64 \n",
      " 2   Husband education              1473 non-null   int64 \n",
      " 3   Number of children ever born   1473 non-null   int64 \n",
      " 4   Wife religion                  1473 non-null   int64 \n",
      " 5   Wife now working               1473 non-null   int64 \n",
      " 6   Husband occupation             1473 non-null   int64 \n",
      " 7   Standard-of-living index       1473 non-null   int64 \n",
      " 8   Media exposure                 1473 non-null   int64 \n",
      " 9   Contraceptive method used      1473 non-null   object\n",
      " 10  Contraceptive method used bin  1473 non-null   int64 \n",
      "dtypes: int64(10), object(1)\n",
      "memory usage: 126.7+ KB\n"
     ]
    }
   ],
   "source": [
    "df.info()"
   ]
  },
  {
   "cell_type": "markdown",
   "metadata": {
    "id": "qbvP6gxjfEj9"
   },
   "source": [
    " - Tirando a coluna auxiliar 'Contraceptive method used bin'"
   ]
  },
  {
   "cell_type": "code",
   "execution_count": 16,
   "metadata": {
    "id": "zXJnHM_gfLbI"
   },
   "outputs": [],
   "source": [
    "df = df.drop(columns='Contraceptive method used bin')"
   ]
  },
  {
   "cell_type": "code",
   "execution_count": 17,
   "metadata": {
    "colab": {
     "base_uri": "https://localhost:8080/"
    },
    "id": "8zi4jxdyfW7c",
    "outputId": "9f0b1f4d-2c8e-480e-913e-70ea67a388d4"
   },
   "outputs": [
    {
     "name": "stdout",
     "output_type": "stream",
     "text": [
      "<class 'pandas.core.frame.DataFrame'>\n",
      "RangeIndex: 1473 entries, 0 to 1472\n",
      "Data columns (total 10 columns):\n",
      " #   Column                        Non-Null Count  Dtype \n",
      "---  ------                        --------------  ----- \n",
      " 0   Wife age                      1473 non-null   int64 \n",
      " 1   Wife education                1473 non-null   int64 \n",
      " 2   Husband education             1473 non-null   int64 \n",
      " 3   Number of children ever born  1473 non-null   int64 \n",
      " 4   Wife religion                 1473 non-null   int64 \n",
      " 5   Wife now working              1473 non-null   int64 \n",
      " 6   Husband occupation            1473 non-null   int64 \n",
      " 7   Standard-of-living index      1473 non-null   int64 \n",
      " 8   Media exposure                1473 non-null   int64 \n",
      " 9   Contraceptive method used     1473 non-null   object\n",
      "dtypes: int64(9), object(1)\n",
      "memory usage: 115.2+ KB\n"
     ]
    }
   ],
   "source": [
    "df.info()"
   ]
  },
  {
   "cell_type": "code",
   "execution_count": 18,
   "metadata": {
    "colab": {
     "base_uri": "https://localhost:8080/"
    },
    "id": "1usM7HH6fbSA",
    "outputId": "e55896a9-0000-4a42-c649-a7bdad583baa"
   },
   "outputs": [
    {
     "data": {
      "text/plain": [
       "1    844\n",
       "0    629\n",
       "Name: Contraceptive method used, dtype: int64"
      ]
     },
     "execution_count": 18,
     "metadata": {},
     "output_type": "execute_result"
    }
   ],
   "source": [
    "df['Contraceptive method used'].value_counts()"
   ]
  },
  {
   "cell_type": "markdown",
   "metadata": {
    "id": "9H4Zs7QJC7CJ"
   },
   "source": [
    "- Separando um conjunto de dados para teste e outro para treino\n"
   ]
  },
  {
   "cell_type": "code",
   "execution_count": 19,
   "metadata": {
    "id": "NT_4eRUyqArD"
   },
   "outputs": [],
   "source": [
    "df_treino, df_teste = train_test_split(df, test_size=0.15, random_state=35)"
   ]
  },
  {
   "cell_type": "markdown",
   "metadata": {
    "id": "ETXJfJmmP8ip"
   },
   "source": [
    "- Separando a coluna alvo do conjunto de treino"
   ]
  },
  {
   "cell_type": "code",
   "execution_count": 20,
   "metadata": {
    "id": "dBBIfL_gqAtX"
   },
   "outputs": [],
   "source": [
    "df_treino_labels = df_treino['Contraceptive method used'].copy()\n",
    "df_treino = df_treino.drop(columns='Contraceptive method used')\n"
   ]
  },
  {
   "cell_type": "markdown",
   "metadata": {
    "id": "Lauce9nWQHfi"
   },
   "source": [
    "- Separando a coluna alvo do conjunto de teste"
   ]
  },
  {
   "cell_type": "code",
   "execution_count": 21,
   "metadata": {
    "id": "0bbjUyhkQKV2"
   },
   "outputs": [],
   "source": [
    "df_teste_labels = df_teste['Contraceptive method used'].copy()\n",
    "df_teste = df_teste.drop(columns='Contraceptive method used')"
   ]
  },
  {
   "cell_type": "markdown",
   "metadata": {
    "id": "kldVD_d9UHYO"
   },
   "source": [
    "- Verificando a quantidade de valores nas colunas Da tabela de **treino**"
   ]
  },
  {
   "cell_type": "code",
   "execution_count": 22,
   "metadata": {
    "colab": {
     "base_uri": "https://localhost:8080/"
    },
    "id": "DUcecUFmUJV8",
    "outputId": "8e3fe311-2ae4-4090-dba5-61b6bca18398"
   },
   "outputs": [
    {
     "data": {
      "text/plain": [
       "1    1070\n",
       "0     182\n",
       "Name: Wife religion, dtype: int64"
      ]
     },
     "execution_count": 22,
     "metadata": {},
     "output_type": "execute_result"
    }
   ],
   "source": [
    "df_treino['Wife religion'].value_counts()"
   ]
  },
  {
   "cell_type": "code",
   "execution_count": 23,
   "metadata": {
    "colab": {
     "base_uri": "https://localhost:8080/"
    },
    "id": "wrYL3zrSUPg6",
    "outputId": "65aa54be-d8ed-41f1-f1ba-bbcc9a75f637"
   },
   "outputs": [
    {
     "data": {
      "text/plain": [
       "0    1160\n",
       "1      92\n",
       "Name: Media exposure, dtype: int64"
      ]
     },
     "execution_count": 23,
     "metadata": {},
     "output_type": "execute_result"
    }
   ],
   "source": [
    "df_treino['Media exposure'].value_counts()"
   ]
  },
  {
   "cell_type": "code",
   "execution_count": 24,
   "metadata": {
    "colab": {
     "base_uri": "https://localhost:8080/"
    },
    "id": "6vw89twFUT2D",
    "outputId": "96a79c6b-65ed-4fc5-bd90-68b027a3403a"
   },
   "outputs": [
    {
     "data": {
      "text/plain": [
       "1    931\n",
       "0    321\n",
       "Name: Wife now working, dtype: int64"
      ]
     },
     "execution_count": 24,
     "metadata": {},
     "output_type": "execute_result"
    }
   ],
   "source": [
    "df_treino['Wife now working'].value_counts()"
   ]
  },
  {
   "cell_type": "markdown",
   "metadata": {
    "id": "9tnO9y9VUfkZ"
   },
   "source": [
    "- Verificando a quantidade de valores nas colunas ta tabela de **teste**"
   ]
  },
  {
   "cell_type": "code",
   "execution_count": 25,
   "metadata": {
    "colab": {
     "base_uri": "https://localhost:8080/"
    },
    "id": "S9b7a5SAUhOQ",
    "outputId": "d3e68d7c-b3ea-472d-bc3c-4c753a2c8b06"
   },
   "outputs": [
    {
     "data": {
      "text/plain": [
       "1    183\n",
       "0     38\n",
       "Name: Wife religion, dtype: int64"
      ]
     },
     "execution_count": 25,
     "metadata": {},
     "output_type": "execute_result"
    }
   ],
   "source": [
    "df_teste['Wife religion'].value_counts()"
   ]
  },
  {
   "cell_type": "code",
   "execution_count": 26,
   "metadata": {
    "colab": {
     "base_uri": "https://localhost:8080/"
    },
    "id": "HrQZDtXPUmHh",
    "outputId": "02e78664-6310-42fd-f7c6-218700708add"
   },
   "outputs": [
    {
     "data": {
      "text/plain": [
       "0    204\n",
       "1     17\n",
       "Name: Media exposure, dtype: int64"
      ]
     },
     "execution_count": 26,
     "metadata": {},
     "output_type": "execute_result"
    }
   ],
   "source": [
    "df_teste['Media exposure'].value_counts()"
   ]
  },
  {
   "cell_type": "code",
   "execution_count": 27,
   "metadata": {
    "colab": {
     "base_uri": "https://localhost:8080/"
    },
    "id": "kgtIxiWAUpvu",
    "outputId": "2e0ea943-6072-4eb4-d31d-1f9c1ef405ab"
   },
   "outputs": [
    {
     "data": {
      "text/plain": [
       "1    173\n",
       "0     48\n",
       "Name: Wife now working, dtype: int64"
      ]
     },
     "execution_count": 27,
     "metadata": {},
     "output_type": "execute_result"
    }
   ],
   "source": [
    "df_teste['Wife now working'].value_counts()"
   ]
  },
  {
   "cell_type": "markdown",
   "metadata": {
    "id": "ED6kwEsOQdyD"
   },
   "source": [
    "## Automação"
   ]
  },
  {
   "cell_type": "markdown",
   "metadata": {
    "id": "1orsbP4oU_po"
   },
   "source": [
    "- Imports"
   ]
  },
  {
   "cell_type": "code",
   "execution_count": 28,
   "metadata": {
    "id": "uteKlVUTQfxn"
   },
   "outputs": [],
   "source": [
    "from sklearn.impute import SimpleImputer\n",
    "from sklearn.preprocessing import StandardScaler\n",
    "from sklearn.preprocessing import OneHotEncoder\n",
    "from sklearn.pipeline import Pipeline\n",
    "from sklearn.compose import ColumnTransformer"
   ]
  },
  {
   "cell_type": "markdown",
   "metadata": {
    "id": "NKIcQ11zSHvH"
   },
   "source": [
    "- Aplicando a função de Pipeline:"
   ]
  },
  {
   "cell_type": "code",
   "execution_count": 29,
   "metadata": {
    "id": "cSktsR8PRL2G"
   },
   "outputs": [],
   "source": [
    "pipeline_atr_numericos = Pipeline([\n",
    "    ('imputer', SimpleImputer(strategy='mean')),\n",
    "    ('scaler', StandardScaler()),\n",
    "])"
   ]
  },
  {
   "cell_type": "markdown",
   "metadata": {},
   "source": [
    "- Pré-processamento"
   ]
  },
  {
   "cell_type": "code",
   "execution_count": 30,
   "metadata": {},
   "outputs": [],
   "source": [
    "preproc_completo = ColumnTransformer([\n",
    "    ('numericos', pipeline_atr_numericos, atributos_numericos),\n",
    "    ('binarios', 'passthrough', atributos_binarios),\n",
    "    ('categoricos', OneHotEncoder(), atributos_categoricos),\n",
    "    ], \n",
    "    sparse_threshold=0)"
   ]
  },
  {
   "cell_type": "markdown",
   "metadata": {
    "id": "qmaEIO6wSL7q"
   },
   "source": [
    "- Aplicando"
   ]
  },
  {
   "cell_type": "code",
   "execution_count": 31,
   "metadata": {
    "id": "WXVjGr4iSOD_"
   },
   "outputs": [],
   "source": [
    "# Pre-processamento do conjunto de treino\n",
    "X_treino = preproc_completo.fit_transform(df_treino)\n",
    "\n",
    "# Pre-processamento do conjunto de teste\n",
    "X_teste = preproc_completo.transform(df_teste)"
   ]
  },
  {
   "cell_type": "code",
   "execution_count": 32,
   "metadata": {
    "id": "-5nkvw_JNVZz"
   },
   "outputs": [],
   "source": [
    "# Coluna alvo para os conjuntos de treino e teste\n",
    "y_treino = df_treino_labels.values\n",
    "y_teste = df_teste_labels.values"
   ]
  },
  {
   "cell_type": "code",
   "execution_count": 33,
   "metadata": {
    "colab": {
     "base_uri": "https://localhost:8080/"
    },
    "id": "UNkAK4ILNofg",
    "outputId": "1ab910a0-f8be-43b9-b503-d354bbcaaa9a"
   },
   "outputs": [
    {
     "data": {
      "text/plain": [
       "array(['0', '1', '1', ..., '0', '1', '1'], dtype=object)"
      ]
     },
     "execution_count": 33,
     "metadata": {},
     "output_type": "execute_result"
    }
   ],
   "source": [
    "y_treino"
   ]
  },
  {
   "cell_type": "code",
   "execution_count": 34,
   "metadata": {
    "colab": {
     "base_uri": "https://localhost:8080/"
    },
    "id": "BPSHmzzaT3fW",
    "outputId": "ca72aca4-cd7e-49b5-e391-0cf573f40dc7"
   },
   "outputs": [
    {
     "data": {
      "text/plain": [
       "(1252, 21)"
      ]
     },
     "execution_count": 34,
     "metadata": {},
     "output_type": "execute_result"
    }
   ],
   "source": [
    "X_treino.shape"
   ]
  },
  {
   "cell_type": "code",
   "execution_count": 35,
   "metadata": {
    "colab": {
     "base_uri": "https://localhost:8080/"
    },
    "id": "Sa56zZHlT5oC",
    "outputId": "80ff1d70-3bef-4608-be55-d98075480901"
   },
   "outputs": [
    {
     "data": {
      "text/plain": [
       "(221, 21)"
      ]
     },
     "execution_count": 35,
     "metadata": {},
     "output_type": "execute_result"
    }
   ],
   "source": [
    "X_teste.shape"
   ]
  },
  {
   "cell_type": "code",
   "execution_count": 36,
   "metadata": {
    "colab": {
     "base_uri": "https://localhost:8080/"
    },
    "id": "ExyIiUxwNpOu",
    "outputId": "9a7e744c-b84c-4199-8772-1f29d221e7b4"
   },
   "outputs": [
    {
     "data": {
      "text/plain": [
       "(1252,)"
      ]
     },
     "execution_count": 36,
     "metadata": {},
     "output_type": "execute_result"
    }
   ],
   "source": [
    "y_treino.shape"
   ]
  },
  {
   "cell_type": "code",
   "execution_count": 37,
   "metadata": {
    "colab": {
     "base_uri": "https://localhost:8080/"
    },
    "id": "zc2aWmO0No57",
    "outputId": "2a5a805b-c561-476e-a483-fb2da1556277"
   },
   "outputs": [
    {
     "data": {
      "text/plain": [
       "(221,)"
      ]
     },
     "execution_count": 37,
     "metadata": {},
     "output_type": "execute_result"
    }
   ],
   "source": [
    "y_teste.shape"
   ]
  },
  {
   "cell_type": "markdown",
   "metadata": {
    "id": "ZtOD3Ife3b7C"
   },
   "source": [
    "# Treinamento/Avaliação de desempenho/Otimizações"
   ]
  },
  {
   "cell_type": "markdown",
   "metadata": {
    "id": "eeiNWwT0PFCH"
   },
   "source": [
    "## Regressão Logística"
   ]
  },
  {
   "cell_type": "markdown",
   "metadata": {
    "id": "ZgiyEkvHvhjS"
   },
   "source": [
    "#### Imports"
   ]
  },
  {
   "cell_type": "code",
   "execution_count": 38,
   "metadata": {
    "id": "AC0-ugvvPDnx"
   },
   "outputs": [],
   "source": [
    "from sklearn.metrics import accuracy_score\n",
    "from sklearn.linear_model import LogisticRegression"
   ]
  },
  {
   "cell_type": "markdown",
   "metadata": {
    "id": "BTzWrtPD5gzt"
   },
   "source": [
    "#### Treinamento"
   ]
  },
  {
   "cell_type": "code",
   "execution_count": 39,
   "metadata": {
    "colab": {
     "base_uri": "https://localhost:8080/"
    },
    "id": "-spSUy6GEvTr",
    "outputId": "0d1333ad-2e0f-4aa7-940d-fc65cae60906"
   },
   "outputs": [
    {
     "data": {
      "text/plain": [
       "array(['0', '1'], dtype=object)"
      ]
     },
     "execution_count": 39,
     "metadata": {},
     "output_type": "execute_result"
    }
   ],
   "source": [
    "log_reg = LogisticRegression(max_iter=300)\n",
    "\n",
    "log_reg.fit(X_treino, y_treino)\n",
    "log_reg.classes_"
   ]
  },
  {
   "cell_type": "code",
   "execution_count": 40,
   "metadata": {
    "colab": {
     "base_uri": "https://localhost:8080/"
    },
    "id": "9a1WhnusOd9j",
    "outputId": "c14a4cb4-d4b5-4947-9676-c645f2f8a045"
   },
   "outputs": [
    {
     "data": {
      "text/plain": [
       "array([[0.33, 0.67],\n",
       "       [0.72, 0.28],\n",
       "       [0.65, 0.35],\n",
       "       [0.17, 0.83],\n",
       "       [0.3 , 0.7 ],\n",
       "       [0.41, 0.59],\n",
       "       [0.34, 0.66],\n",
       "       [0.26, 0.74],\n",
       "       [0.21, 0.79],\n",
       "       [0.91, 0.09]])"
      ]
     },
     "execution_count": 40,
     "metadata": {},
     "output_type": "execute_result"
    }
   ],
   "source": [
    "# probabilidade estimada\n",
    "\n",
    "y_probabilidade_reglog = log_reg.predict_proba(X_teste)\n",
    "np.round(y_probabilidade_reglog, decimals=2)[0:10]"
   ]
  },
  {
   "cell_type": "code",
   "execution_count": 41,
   "metadata": {
    "colab": {
     "base_uri": "https://localhost:8080/"
    },
    "id": "lJIoz3YZEw1O",
    "outputId": "e3f9317f-3ca9-4f5e-e3fa-897ec53ac0bd"
   },
   "outputs": [
    {
     "data": {
      "text/plain": [
       "array(['1', '0', '0', '1', '1', '1', '1', '1', '1', '0', '1', '1', '0',\n",
       "       '0', '1', '1', '0', '1', '1', '1', '1', '1', '1', '0', '0', '1',\n",
       "       '1', '0', '1', '1', '1', '0', '0', '1', '0', '1', '1', '1', '0',\n",
       "       '1', '0', '1', '0', '1', '0', '1', '0', '0', '0', '0', '0', '1',\n",
       "       '1', '1', '1', '1', '0', '0', '1', '1', '0', '0', '1', '0', '1',\n",
       "       '1', '1', '1', '1', '1', '0', '1', '0', '1', '1', '1', '1', '1',\n",
       "       '1', '1', '1', '1', '0', '1', '1', '0', '1', '0', '0', '0', '0',\n",
       "       '1', '1', '1', '0', '0', '0', '1', '1', '1', '1', '1', '0', '1',\n",
       "       '1', '1', '0', '1', '0', '1', '1', '1', '0', '0', '1', '1', '1',\n",
       "       '0', '1', '1', '0', '0', '1', '1', '1', '0', '1', '1', '1', '1',\n",
       "       '1', '1', '1', '1', '1', '1', '0', '0', '1', '1', '1', '0', '1',\n",
       "       '1', '1', '1', '0', '0', '0', '1', '1', '0', '1', '1', '1', '1',\n",
       "       '1', '1', '1', '1', '1', '1', '0', '0', '1', '1', '0', '1', '1',\n",
       "       '1', '0', '1', '0', '1', '1', '1', '0', '1', '0', '0', '1', '0',\n",
       "       '1', '1', '1', '1', '1', '1', '0', '1', '1', '0', '0', '1', '0',\n",
       "       '1', '1', '1', '1', '1', '1', '0', '1', '1', '0', '1', '1', '1',\n",
       "       '1', '0', '1', '1', '0', '0', '1', '1', '1', '0', '1', '1', '0'],\n",
       "      dtype=object)"
      ]
     },
     "execution_count": 41,
     "metadata": {},
     "output_type": "execute_result"
    }
   ],
   "source": [
    "# previsões\n",
    "\n",
    "y_previsto_reglog = log_reg.predict(X_teste)\n",
    "y_previsto_reglog"
   ]
  },
  {
   "cell_type": "code",
   "execution_count": 42,
   "metadata": {
    "colab": {
     "base_uri": "https://localhost:8080/"
    },
    "id": "D0Gt5IhqOqLA",
    "outputId": "83cf2193-365f-4ac2-f422-87419fc8b351"
   },
   "outputs": [
    {
     "data": {
      "text/plain": [
       "array(['1', '0', '0', '1', '1', '1', '1', '0', '1', '0', '0', '1', '0',\n",
       "       '0', '1', '1', '0', '1', '0', '0', '1', '1', '1', '0', '0', '0',\n",
       "       '0', '0', '1', '1', '1', '0', '1', '1', '0', '1', '1', '1', '1',\n",
       "       '1', '0', '0', '0', '1', '0', '0', '0', '0', '0', '0', '1', '1',\n",
       "       '1', '0', '1', '1', '1', '0', '1', '0', '1', '0', '1', '1', '0',\n",
       "       '1', '1', '0', '1', '1', '0', '0', '0', '1', '1', '1', '1', '0',\n",
       "       '1', '1', '1', '1', '1', '1', '1', '1', '1', '0', '0', '0', '1',\n",
       "       '0', '1', '1', '0', '0', '0', '0', '0', '0', '0', '1', '0', '1',\n",
       "       '1', '1', '1', '1', '1', '1', '0', '1', '0', '1', '1', '0', '0',\n",
       "       '1', '1', '0', '1', '1', '1', '0', '1', '0', '0', '0', '0', '1',\n",
       "       '1', '0', '1', '1', '1', '0', '0', '0', '1', '1', '1', '0', '1',\n",
       "       '1', '0', '1', '0', '0', '0', '0', '1', '1', '1', '1', '1', '1',\n",
       "       '1', '1', '1', '0', '1', '1', '0', '0', '0', '1', '0', '1', '1',\n",
       "       '1', '0', '1', '0', '1', '1', '1', '0', '1', '0', '0', '1', '0',\n",
       "       '1', '1', '0', '1', '0', '1', '0', '1', '0', '0', '0', '0', '1',\n",
       "       '1', '1', '1', '1', '0', '1', '0', '1', '0', '0', '0', '0', '1',\n",
       "       '1', '0', '0', '0', '1', '0', '1', '1', '1', '1', '0', '0', '1'],\n",
       "      dtype=object)"
      ]
     },
     "execution_count": 42,
     "metadata": {},
     "output_type": "execute_result"
    }
   ],
   "source": [
    "y_teste"
   ]
  },
  {
   "cell_type": "markdown",
   "metadata": {
    "id": "wVmkm1q-PIn8"
   },
   "source": [
    "### Avaliação de desempenho"
   ]
  },
  {
   "cell_type": "code",
   "execution_count": 43,
   "metadata": {
    "colab": {
     "base_uri": "https://localhost:8080/"
    },
    "id": "tiTSDXUc5Pnu",
    "outputId": "2df0037a-9efb-485d-8711-8da72d1aa89b"
   },
   "outputs": [
    {
     "name": "stdout",
     "output_type": "stream",
     "text": [
      "Matriz de confusão:\n",
      "[[ 53  45]\n",
      " [ 20 103]]\n",
      "\n",
      "Acurácia:  0.7058823529411765\n",
      "Precisão:  0.726027397260274\n",
      "Recall  :  0.5408163265306123\n",
      "F1      :  0.6198830409356725\n"
     ]
    }
   ],
   "source": [
    "print(\"Matriz de confusão:\")\n",
    "print(confusion_matrix(y_teste, y_previsto_reglog))\n",
    "print()\n",
    "print(\"Acurácia: \", accuracy_score(y_teste, y_previsto_reglog))\n",
    "print(\"Precisão: \", precision_score(y_teste, y_previsto_reglog, pos_label='0'))\n",
    "print(\"Recall  : \", recall_score(y_teste, y_previsto_reglog, pos_label='0'))\n",
    "print(\"F1      : \", f1_score(y_teste, y_previsto_reglog, pos_label='0'))"
   ]
  },
  {
   "cell_type": "markdown",
   "metadata": {
    "id": "JhnbLOhpoJhN"
   },
   "source": [
    "## Árvore de Decisão"
   ]
  },
  {
   "cell_type": "markdown",
   "metadata": {
    "id": "lj_CQsCyvtnh"
   },
   "source": [
    "#### Imports"
   ]
  },
  {
   "cell_type": "code",
   "execution_count": 44,
   "metadata": {
    "id": "EzYKrpxWPKJt"
   },
   "outputs": [],
   "source": [
    "from sklearn.tree import DecisionTreeClassifier\n",
    "from sklearn import tree"
   ]
  },
  {
   "cell_type": "markdown",
   "metadata": {
    "id": "RfWUzVfb50Io"
   },
   "source": [
    "#### Treinamento"
   ]
  },
  {
   "cell_type": "code",
   "execution_count": 45,
   "metadata": {
    "colab": {
     "base_uri": "https://localhost:8080/"
    },
    "id": "BTCZGyNEPyvP",
    "outputId": "f3ebe4e8-f03a-4ba8-8bd9-bd785895450e"
   },
   "outputs": [
    {
     "data": {
      "text/plain": [
       "array(['0', '1'], dtype=object)"
      ]
     },
     "execution_count": 45,
     "metadata": {},
     "output_type": "execute_result"
    }
   ],
   "source": [
    "arvore = DecisionTreeClassifier(max_depth=4)\n",
    "arvore.fit(X_treino, y_treino)\n",
    "arvore.classes_"
   ]
  },
  {
   "cell_type": "code",
   "execution_count": 46,
   "metadata": {
    "colab": {
     "base_uri": "https://localhost:8080/"
    },
    "id": "shzC2c7XQMKS",
    "outputId": "e81ec4df-a2ff-4901-f5f4-2b2b8213234d"
   },
   "outputs": [
    {
     "data": {
      "text/plain": [
       "array([[0.29, 0.71],\n",
       "       [1.  , 0.  ],\n",
       "       [0.51, 0.49],\n",
       "       [0.16, 0.84],\n",
       "       [0.32, 0.68],\n",
       "       [1.  , 0.  ],\n",
       "       [0.62, 0.38],\n",
       "       [0.16, 0.84],\n",
       "       [0.16, 0.84],\n",
       "       [0.62, 0.38]])"
      ]
     },
     "execution_count": 46,
     "metadata": {},
     "output_type": "execute_result"
    }
   ],
   "source": [
    "# probabilidade estimada da árvore de decisão\n",
    "\n",
    "y_probabilidade_arvore = arvore.predict_proba(X_teste)\n",
    "np.round(y_probabilidade_arvore, decimals=2)[0:10]"
   ]
  },
  {
   "cell_type": "code",
   "execution_count": 47,
   "metadata": {
    "colab": {
     "base_uri": "https://localhost:8080/"
    },
    "id": "pGIuwVFCQY6G",
    "outputId": "243239f8-2571-4904-abdd-c672a681da14"
   },
   "outputs": [
    {
     "data": {
      "text/plain": [
       "array(['1', '0', '0', '1', '1', '0', '0', '1', '1', '0', '1', '1', '0',\n",
       "       '0', '0', '0', '0', '1', '0', '0', '1', '1', '1', '0', '0'],\n",
       "      dtype=object)"
      ]
     },
     "execution_count": 47,
     "metadata": {},
     "output_type": "execute_result"
    }
   ],
   "source": [
    "y_previsto_arvore = arvore.predict(X_teste)\n",
    "y_previsto_arvore[0:25]"
   ]
  },
  {
   "cell_type": "code",
   "execution_count": 48,
   "metadata": {
    "colab": {
     "base_uri": "https://localhost:8080/"
    },
    "id": "LXZgprceRP-P",
    "outputId": "a5f7f565-7271-4842-a06a-1251cb5b82b6"
   },
   "outputs": [
    {
     "data": {
      "text/plain": [
       "array([ True,  True,  True,  True,  True, False, False, False,  True,\n",
       "        True, False,  True,  True,  True, False, False,  True,  True,\n",
       "        True,  True])"
      ]
     },
     "execution_count": 48,
     "metadata": {},
     "output_type": "execute_result"
    }
   ],
   "source": [
    "acertos_arvore = y_previsto_arvore == y_teste\n",
    "acertos_arvore[0:20]"
   ]
  },
  {
   "cell_type": "code",
   "execution_count": 49,
   "metadata": {
    "colab": {
     "base_uri": "https://localhost:8080/"
    },
    "id": "jVRJR40lRcdZ",
    "outputId": "15cfb105-d289-49a8-9e5c-c154b2e76b9a"
   },
   "outputs": [
    {
     "name": "stdout",
     "output_type": "stream",
     "text": [
      "[[  0   1]\n",
      " [ 58 163]]\n"
     ]
    }
   ],
   "source": [
    "valores_arvore, quantidades_arvore = np.unique(acertos_arvore, return_counts=True)\n",
    "print(np.asarray((valores_arvore, quantidades_arvore)))"
   ]
  },
  {
   "cell_type": "markdown",
   "metadata": {
    "id": "Cy2uiIr3Rgnr"
   },
   "source": [
    "### Visualização"
   ]
  },
  {
   "cell_type": "code",
   "execution_count": 50,
   "metadata": {
    "id": "HWzZ98aScEb0"
   },
   "outputs": [],
   "source": [
    "nomes_atributos = np.append( atributos_numericos, \n",
    "                             preproc_completo.named_transformers_['categoricos'].get_feature_names())"
   ]
  },
  {
   "cell_type": "code",
   "execution_count": 51,
   "metadata": {
    "colab": {
     "base_uri": "https://localhost:8080/",
     "height": 1000
    },
    "id": "3mkBlvGSb_lC",
    "outputId": "3eebbdbc-d64b-494e-8935-597692483e4c"
   },
   "outputs": [
    {
     "data": {
      "text/plain": [
       "[Text(361.0588235294117, 587.0880000000001, 'Number of children ever born <= -1.184\\ngini = 0.488\\nsamples = 100.0%\\nvalue = [0.424, 0.576]\\nclass = 1'),\n",
       " Text(131.2941176470588, 456.624, 'Wife age <= -1.854\\ngini = 0.025\\nsamples = 6.3%\\nvalue = [0.987, 0.013]\\nclass = 0'),\n",
       " Text(65.6470588235294, 326.1600000000001, 'gini = 0.0\\nsamples = 0.1%\\nvalue = [0.0, 1.0]\\nclass = 1'),\n",
       " Text(196.94117647058823, 326.1600000000001, 'gini = 0.0\\nsamples = 6.2%\\nvalue = [1.0, 0.0]\\nclass = 0'),\n",
       " Text(590.8235294117646, 456.624, 'x1_3 <= 0.5\\ngini = 0.474\\nsamples = 93.7%\\nvalue = [0.386, 0.614]\\nclass = 1'),\n",
       " Text(328.235294117647, 326.1600000000001, 'Wife age <= 0.591\\ngini = 0.498\\nsamples = 56.6%\\nvalue = [0.467, 0.533]\\nclass = 1'),\n",
       " Text(196.94117647058823, 195.69600000000003, 'Number of children ever born <= -0.337\\ngini = 0.471\\nsamples = 41.0%\\nvalue = [0.38, 0.62]\\nclass = 1'),\n",
       " Text(131.2941176470588, 65.23200000000008, 'gini = 0.5\\nsamples = 17.3%\\nvalue = [0.507, 0.493]\\nclass = 0'),\n",
       " Text(262.5882352941176, 65.23200000000008, 'gini = 0.409\\nsamples = 23.6%\\nvalue = [0.287, 0.713]\\nclass = 1'),\n",
       " Text(459.52941176470586, 195.69600000000003, 'x0_4 <= 0.5\\ngini = 0.425\\nsamples = 15.7%\\nvalue = [0.694, 0.306]\\nclass = 0'),\n",
       " Text(393.88235294117646, 65.23200000000008, 'gini = 0.473\\nsamples = 10.4%\\nvalue = [0.615, 0.385]\\nclass = 0'),\n",
       " Text(525.1764705882352, 65.23200000000008, 'gini = 0.257\\nsamples = 5.3%\\nvalue = [0.848, 0.152]\\nclass = 0'),\n",
       " Text(853.4117647058823, 326.1600000000001, 'Number of children ever born <= -0.337\\ngini = 0.388\\nsamples = 37.1%\\nvalue = [0.263, 0.737]\\nclass = 1'),\n",
       " Text(722.1176470588234, 195.69600000000003, 'Wife age <= 0.836\\ngini = 0.467\\nsamples = 16.5%\\nvalue = [0.372, 0.628]\\nclass = 1'),\n",
       " Text(656.470588235294, 65.23200000000008, 'gini = 0.436\\nsamples = 14.9%\\nvalue = [0.321, 0.679]\\nclass = 1'),\n",
       " Text(787.7647058823529, 65.23200000000008, 'gini = 0.255\\nsamples = 1.6%\\nvalue = [0.85, 0.15]\\nclass = 0'),\n",
       " Text(984.7058823529411, 195.69600000000003, 'Wife age <= 1.936\\ngini = 0.289\\nsamples = 20.5%\\nvalue = [0.175, 0.825]\\nclass = 1'),\n",
       " Text(919.0588235294117, 65.23200000000008, 'gini = 0.263\\nsamples = 20.0%\\nvalue = [0.156, 0.844]\\nclass = 1'),\n",
       " Text(1050.3529411764705, 65.23200000000008, 'gini = 0.245\\nsamples = 0.6%\\nvalue = [0.857, 0.143]\\nclass = 0')]"
      ]
     },
     "execution_count": 51,
     "metadata": {},
     "output_type": "execute_result"
    },
    {
     "data": {
      "image/png": "[encoded data removed]",
      "text/plain": [
       "<Figure size 1440x864 with 1 Axes>"
      ]
     },
     "metadata": {
      "needs_background": "light"
     },
     "output_type": "display_data"
    }
   ],
   "source": [
    "plt.figure(figsize=(20,12))\n",
    "\n",
    "tree.plot_tree(arvore,\n",
    "              feature_names=nomes_atributos,\n",
    "              class_names=arvore.classes_,\n",
    "              rounded=True,\n",
    "              filled=True,\n",
    "              proportion=True,\n",
    "              fontsize=10)"
   ]
  },
  {
   "cell_type": "markdown",
   "metadata": {
    "id": "g5HN3p5iRJRz"
   },
   "source": [
    "### Avaliação de desempenho\n"
   ]
  },
  {
   "cell_type": "code",
   "execution_count": 52,
   "metadata": {
    "colab": {
     "base_uri": "https://localhost:8080/"
    },
    "id": "uvOa4e_S_Amt",
    "outputId": "d923ba1b-add1-48de-957e-db5dddac7da0"
   },
   "outputs": [
    {
     "name": "stdout",
     "output_type": "stream",
     "text": [
      "Matriz de confusão:\n",
      "[[72 26]\n",
      " [32 91]]\n",
      "\n",
      "Acurácia:  0.7375565610859729\n",
      "Precisão:  0.6923076923076923\n",
      "Recall  :  0.7346938775510204\n",
      "F1      :  0.7128712871287128\n"
     ]
    }
   ],
   "source": [
    "print(\"Matriz de confusão:\")\n",
    "print(confusion_matrix(y_teste, y_previsto_arvore))\n",
    "print()\n",
    "print(\"Acurácia: \", accuracy_score(y_teste, y_previsto_arvore))\n",
    "print(\"Precisão: \", precision_score(y_teste, y_previsto_arvore, pos_label='0'))\n",
    "print(\"Recall  : \", recall_score(y_teste, y_previsto_arvore, pos_label='0'))\n",
    "print(\"F1      : \", f1_score(y_teste, y_previsto_arvore, pos_label='0'))"
   ]
  },
  {
   "cell_type": "markdown",
   "metadata": {
    "id": "sckOWWYC6WFu"
   },
   "source": [
    "## Comitês de Aprendizagem"
   ]
  },
  {
   "cell_type": "markdown",
   "metadata": {
    "id": "D8-wzIyV6eT0"
   },
   "source": [
    "### Imports"
   ]
  },
  {
   "cell_type": "code",
   "execution_count": 53,
   "metadata": {
    "id": "7HAX4Mex6dwf"
   },
   "outputs": [],
   "source": [
    "from sklearn.neural_network import MLPClassifier\n",
    "from sklearn.neighbors import KNeighborsClassifier\n",
    "from sklearn.svm import SVC"
   ]
  },
  {
   "cell_type": "markdown",
   "metadata": {
    "id": "1aaWmub86k0V"
   },
   "source": [
    "### Treinamento"
   ]
  },
  {
   "cell_type": "code",
   "execution_count": 54,
   "metadata": {
    "id": "IZMXEmVN6uRk"
   },
   "outputs": [],
   "source": [
    "mlp_clf = MLPClassifier(hidden_layer_sizes=(30,15), max_iter=2000)\n",
    "knn_clf = KNeighborsClassifier(5)\n",
    "svm_clf = SVC(kernel=\"rbf\", C=1.0, probability=True)\n",
    "logreg2 = LogisticRegression(max_iter=300)\n",
    "arvore2 = DecisionTreeClassifier(max_depth=4)"
   ]
  },
  {
   "cell_type": "code",
   "execution_count": 55,
   "metadata": {
    "colab": {
     "base_uri": "https://localhost:8080/"
    },
    "id": "fEbXL1Dk9BHz",
    "outputId": "d18adb7a-5599-4dcd-a868-3802e7dafa31"
   },
   "outputs": [
    {
     "name": "stdout",
     "output_type": "stream",
     "text": [
      "Estimador................: Acur. - Prec. - Rec.  - F1\n",
      "--------------------------------------------------------\n",
      "LogisticRegression.......: 0.706 - 0.726 - 0.541 - 0.620\n",
      "DecisionTreeClassifier...: 0.738 - 0.692 - 0.735 - 0.713\n",
      "MLPClassifier............: 0.652 - 0.615 - 0.571 - 0.593\n",
      "KNeighborsClassifier.....: 0.638 - 0.632 - 0.439 - 0.518\n",
      "SVC......................: 0.751 - 0.787 - 0.602 - 0.682\n"
     ]
    }
   ],
   "source": [
    "\n",
    "print(\"Estimador................: Acur. - Prec. - Rec.  - F1\")\n",
    "print(\"--------------------------------------------------------\")\n",
    "for estimador in (logreg2,arvore2,mlp_clf,knn_clf,svm_clf):\n",
    "    estimador.fit(X_treino, y_treino)\n",
    "    previsoes = estimador.predict(X_teste)\n",
    "    print(\"%.25s: %2.3f - %2.3f - %2.3f - %2.3f\" \n",
    "                                  %(estimador.__class__.__name__.ljust(25, '.'), \n",
    "                                    accuracy_score(  y_teste, previsoes),\n",
    "                                    precision_score( y_teste, previsoes, pos_label='0'),\n",
    "                                    recall_score(    y_teste, previsoes, pos_label='0'),\n",
    "                                    f1_score(        y_teste, previsoes, pos_label='0'),\n",
    "                                   ))"
   ]
  },
  {
   "cell_type": "code",
   "execution_count": 56,
   "metadata": {
    "colab": {
     "base_uri": "https://localhost:8080/"
    },
    "id": "CodkkwG97Mv9",
    "outputId": "8110682e-8c02-48e7-cf02-58bf1074ce40"
   },
   "outputs": [
    {
     "data": {
      "text/plain": [
       "VotingClassifier(estimators=[('log_reg', LogisticRegression(max_iter=300)),\n",
       "                             ('arvore', DecisionTreeClassifier(max_depth=4)),\n",
       "                             ('MLP',\n",
       "                              MLPClassifier(hidden_layer_sizes=(30, 15),\n",
       "                                            max_iter=2000)),\n",
       "                             ('svm', SVC(probability=True)),\n",
       "                             ('knn', KNeighborsClassifier())],\n",
       "                 n_jobs=-1, voting='soft')"
      ]
     },
     "execution_count": 56,
     "metadata": {},
     "output_type": "execute_result"
    }
   ],
   "source": [
    "#VotingClassifier\n",
    "\n",
    "from sklearn.ensemble import VotingClassifier\n",
    "\n",
    "votador = VotingClassifier(estimators=[('log_reg', logreg2),\n",
    "                                       ('arvore', arvore2),\n",
    "                                       ('MLP', mlp_clf),\n",
    "                                       ('svm', svm_clf),\n",
    "                                       ('knn', knn_clf),\n",
    "                                      ],\n",
    "                            voting='soft',\n",
    "                            n_jobs=-1)\n",
    "\n",
    "votador.fit(X_treino, y_treino)"
   ]
  },
  {
   "cell_type": "code",
   "execution_count": 57,
   "metadata": {
    "colab": {
     "base_uri": "https://localhost:8080/"
    },
    "id": "Y5ZCMkao7i0l",
    "outputId": "823de703-1658-4575-a756-599348c4152f"
   },
   "outputs": [
    {
     "data": {
      "text/plain": [
       "array([[0.25, 0.75],\n",
       "       [0.89, 0.11],\n",
       "       [0.62, 0.38],\n",
       "       [0.15, 0.85],\n",
       "       [0.21, 0.79],\n",
       "       [0.62, 0.38],\n",
       "       [0.58, 0.42],\n",
       "       [0.16, 0.84],\n",
       "       [0.1 , 0.9 ],\n",
       "       [0.88, 0.12]])"
      ]
     },
     "execution_count": 57,
     "metadata": {},
     "output_type": "execute_result"
    }
   ],
   "source": [
    "y_probabilidade_votador = votador.predict_proba(X_teste)\n",
    "np.round(y_probabilidade_votador,decimals=2)[0:10]"
   ]
  },
  {
   "cell_type": "code",
   "execution_count": 58,
   "metadata": {
    "colab": {
     "base_uri": "https://localhost:8080/"
    },
    "id": "ezxSGtIL7sjd",
    "outputId": "381da2fc-64f6-4533-f68b-3f8b792b3610"
   },
   "outputs": [
    {
     "data": {
      "text/plain": [
       "array(['1', '0', '0', '1', '1', '0', '0', '1', '1', '0', '1', '1', '0',\n",
       "       '0', '1', '0', '0', '1', '1', '0', '1', '1', '1', '0', '0', '1',\n",
       "       '1', '0', '1', '1', '1', '0', '0', '0', '0', '1', '1', '1', '0',\n",
       "       '1', '0', '1', '0', '1', '0', '1', '0', '0', '1', '0', '0', '1',\n",
       "       '1', '1', '1', '1', '0', '0', '1', '1', '0', '1', '1', '1', '1',\n",
       "       '1', '0', '1', '0', '1', '1', '0', '0', '1', '1', '1', '1', '1',\n",
       "       '1', '1', '1', '1', '0', '1', '0', '1', '1', '0', '0', '0', '1',\n",
       "       '0', '0', '1', '0', '0', '0', '1', '1', '1', '1', '0', '1', '1',\n",
       "       '1', '1', '0', '1', '1', '1', '1', '1', '0', '1', '1', '0', '0',\n",
       "       '0', '1', '1', '0', '1', '0', '1', '0', '0', '1', '0', '0', '1',\n",
       "       '1', '1', '1', '0', '1', '0', '0', '0', '1', '1', '1', '1', '1',\n",
       "       '1', '1', '1', '0', '0', '1', '1', '1', '0', '1', '1', '1', '1',\n",
       "       '1', '1', '1', '1', '1', '1', '0', '0', '1', '1', '0', '1', '0',\n",
       "       '0', '0', '1', '0', '1', '1', '1', '0', '1', '0', '0', '1', '0',\n",
       "       '1', '1', '0', '1', '1', '1', '0', '1', '1', '0', '0', '0', '1',\n",
       "       '1', '1', '1', '1', '1', '1', '0', '1', '1', '0', '1', '1', '1',\n",
       "       '1', '0', '1', '0', '1', '0', '1', '1', '1', '0', '0', '1', '0'],\n",
       "      dtype=object)"
      ]
     },
     "execution_count": 58,
     "metadata": {},
     "output_type": "execute_result"
    }
   ],
   "source": [
    "y_previsto_votador = votador.predict(X_teste)\n",
    "y_previsto_votador"
   ]
  },
  {
   "cell_type": "markdown",
   "metadata": {
    "id": "wpARtGIB6ovn"
   },
   "source": [
    "### Avaliação de desempenho"
   ]
  },
  {
   "cell_type": "code",
   "execution_count": 59,
   "metadata": {
    "colab": {
     "base_uri": "https://localhost:8080/"
    },
    "id": "APtr_Vqs65vd",
    "outputId": "73ebff41-f16c-4d57-f404-358bcbadc80c"
   },
   "outputs": [
    {
     "name": "stdout",
     "output_type": "stream",
     "text": [
      "Estimador................: Acur. - Prec. - Rec.  - F1\n",
      "--------------------------------------------------------\n",
      "LogisticRegression.......: 0.706 - 0.726 - 0.541 - 0.620\n",
      "DecisionTreeClassifier...: 0.738 - 0.692 - 0.735 - 0.713\n",
      "MLPClassifier............: 0.692 - 0.679 - 0.582 - 0.626\n",
      "KNeighborsClassifier.....: 0.638 - 0.632 - 0.439 - 0.518\n",
      "SVC......................: 0.751 - 0.787 - 0.602 - 0.682\n",
      "VotingClassifier.........: 0.733 - 0.741 - 0.612 - 0.670\n"
     ]
    }
   ],
   "source": [
    "## Comitê\n",
    "\n",
    "print(\"Estimador................: Acur. - Prec. - Rec.  - F1\")\n",
    "print(\"--------------------------------------------------------\")\n",
    "for estimador in (logreg2, arvore2, mlp_clf, knn_clf, svm_clf, votador):\n",
    "    estimador.fit(X_treino, y_treino)\n",
    "    previsoes = estimador.predict(X_teste)\n",
    "    print(\"%.25s: %2.3f - %2.3f - %2.3f - %2.3f\" \n",
    "                                  %(estimador.__class__.__name__.ljust(25, '.'), \n",
    "                                    accuracy_score(y_teste, previsoes),\n",
    "                                    precision_score(y_teste, previsoes, pos_label='0'),\n",
    "                                    recall_score(y_teste, previsoes, pos_label='0'),\n",
    "                                    f1_score(y_teste, previsoes, pos_label='0'),\n",
    "                                   ))"
   ]
  },
  {
   "cell_type": "code",
   "execution_count": 60,
   "metadata": {
    "colab": {
     "base_uri": "https://localhost:8080/"
    },
    "id": "AwgKzlzX7wrg",
    "outputId": "71f6871e-a934-4799-ef5a-ce48f763228d"
   },
   "outputs": [
    {
     "name": "stdout",
     "output_type": "stream",
     "text": [
      "Matriz de confusão:\n",
      "[[59 39]\n",
      " [26 97]]\n",
      "\n",
      "Acurácia:  0.7058823529411765\n",
      "Precisão:  0.6941176470588235\n",
      "Recall  :  0.6020408163265306\n",
      "F1      :  0.6448087431693988\n"
     ]
    }
   ],
   "source": [
    "#Votador\n",
    "\n",
    "print(\"Matriz de confusão:\")\n",
    "print(confusion_matrix(y_teste, y_previsto_votador))\n",
    "print()\n",
    "print(\"Acurácia: \", accuracy_score(  y_teste,y_previsto_votador))\n",
    "print(\"Precisão: \", precision_score( y_teste,y_previsto_votador, pos_label='0'))\n",
    "print(\"Recall  : \", recall_score(    y_teste,y_previsto_votador, pos_label='0'))\n",
    "print(\"F1      : \", f1_score(        y_teste,y_previsto_votador, pos_label='0'))"
   ]
  },
  {
   "cell_type": "markdown",
   "metadata": {
    "id": "ZnXryUcK8kOm"
   },
   "source": [
    "## RandomForest"
   ]
  },
  {
   "cell_type": "markdown",
   "metadata": {
    "id": "jo52cxT78nqm"
   },
   "source": [
    "### Imports"
   ]
  },
  {
   "cell_type": "code",
   "execution_count": 61,
   "metadata": {
    "id": "hzdBoIo086Xd"
   },
   "outputs": [],
   "source": [
    "from sklearn.ensemble import RandomForestClassifier"
   ]
  },
  {
   "cell_type": "markdown",
   "metadata": {
    "id": "FftYSOCq8q1I"
   },
   "source": [
    "### Treinamento"
   ]
  },
  {
   "cell_type": "code",
   "execution_count": 62,
   "metadata": {
    "colab": {
     "base_uri": "https://localhost:8080/"
    },
    "id": "Cv5M7M0C880W",
    "outputId": "2ac9f169-1594-4eb6-bab0-e0ef4e29f538"
   },
   "outputs": [
    {
     "data": {
      "text/plain": [
       "array(['0', '1'], dtype=object)"
      ]
     },
     "execution_count": 62,
     "metadata": {},
     "output_type": "execute_result"
    }
   ],
   "source": [
    "rndfrst = RandomForestClassifier(n_estimators=100, max_features=0.7, max_samples=0.5, n_jobs=-1)\n",
    "rndfrst.fit(X_treino, y_treino)\n",
    "rndfrst.classes_"
   ]
  },
  {
   "cell_type": "code",
   "execution_count": 63,
   "metadata": {
    "colab": {
     "base_uri": "https://localhost:8080/"
    },
    "id": "KBmza4Es9W3F",
    "outputId": "0a9b6688-3020-44a2-8ee6-1eef20ba8211"
   },
   "outputs": [
    {
     "data": {
      "text/plain": [
       "array([[0.21, 0.79],\n",
       "       [1.  , 0.  ],\n",
       "       [0.47, 0.53],\n",
       "       [0.17, 0.83],\n",
       "       [0.12, 0.88],\n",
       "       [0.91, 0.09],\n",
       "       [0.6 , 0.4 ],\n",
       "       [0.12, 0.88],\n",
       "       [0.12, 0.88],\n",
       "       [0.86, 0.14]])"
      ]
     },
     "execution_count": 63,
     "metadata": {},
     "output_type": "execute_result"
    }
   ],
   "source": [
    "# probabilidade estimada\n",
    "\n",
    "y_probabilidade_rndfrst = rndfrst.predict_proba(X_teste)\n",
    "np.round(y_probabilidade_rndfrst,decimals=2)[0:10]"
   ]
  },
  {
   "cell_type": "code",
   "execution_count": 64,
   "metadata": {
    "colab": {
     "base_uri": "https://localhost:8080/"
    },
    "id": "21BZNH9p9cEh",
    "outputId": "2efa73e8-67f7-47ce-ec3d-18c8f7f29cf5"
   },
   "outputs": [
    {
     "data": {
      "text/plain": [
       "array(['1', '0', '1', '1', '1', '0', '0', '1', '1', '0', '1', '1', '1',\n",
       "       '0', '1', '0', '0', '1', '1', '0', '1', '0', '0', '0', '0', '1',\n",
       "       '1', '0', '0', '1', '1', '0', '0', '0', '0', '1', '1', '1', '1',\n",
       "       '1', '0', '1', '0', '1', '0', '1', '0', '0', '1', '0', '0', '1',\n",
       "       '1', '1', '1', '1', '1', '0', '0', '1', '0', '1', '1', '1', '1',\n",
       "       '1', '0', '1', '0', '1', '1', '0', '0', '1', '1', '1', '1', '1',\n",
       "       '1', '1', '1', '1', '0', '1', '1', '1', '1', '0', '1', '1', '1',\n",
       "       '0', '0', '0', '0', '0', '0', '1', '1', '1', '1', '0', '1', '1',\n",
       "       '1', '0', '1', '1', '0', '1', '0', '1', '0', '1', '1', '0', '0',\n",
       "       '0', '1', '1', '1', '1', '0', '1', '1', '0', '1', '0', '0', '1',\n",
       "       '1', '1', '1', '1', '1', '0', '0', '0', '0', '0', '1', '0', '1',\n",
       "       '1', '1', '1', '0', '0', '1', '1', '1', '0', '1', '1', '1', '1',\n",
       "       '1', '1', '1', '1', '0', '1', '0', '0', '0', '1', '0', '1', '1',\n",
       "       '0', '0', '1', '1', '1', '0', '0', '0', '1', '0', '0', '1', '0',\n",
       "       '1', '1', '0', '1', '1', '1', '0', '1', '1', '0', '1', '0', '0',\n",
       "       '1', '1', '1', '1', '0', '1', '0', '1', '1', '0', '1', '1', '1',\n",
       "       '1', '0', '0', '0', '1', '0', '1', '1', '1', '0', '1', '1', '1'],\n",
       "      dtype=object)"
      ]
     },
     "execution_count": 64,
     "metadata": {},
     "output_type": "execute_result"
    }
   ],
   "source": [
    "# previsão\n",
    "\n",
    "y_previsto_rndfrst = rndfrst.predict(X_teste)\n",
    "y_previsto_rndfrst"
   ]
  },
  {
   "cell_type": "markdown",
   "metadata": {
    "id": "Zoy1tLqQ8sn9"
   },
   "source": [
    "### Avaliação de desempenho"
   ]
  },
  {
   "cell_type": "code",
   "execution_count": 65,
   "metadata": {
    "colab": {
     "base_uri": "https://localhost:8080/"
    },
    "id": "wQJXcxU09e11",
    "outputId": "82d742c4-308f-4e91-9455-def4e57a3f88"
   },
   "outputs": [
    {
     "name": "stdout",
     "output_type": "stream",
     "text": [
      "Matriz de confusão:\n",
      "[[57 41]\n",
      " [30 93]]\n",
      "\n",
      "Acurácia:  0.6787330316742082\n",
      "Precisão:  0.6551724137931034\n",
      "Recall  :  0.5816326530612245\n",
      "F1      :  0.6162162162162163\n"
     ]
    }
   ],
   "source": [
    "print(\"Matriz de confusão:\")\n",
    "print(confusion_matrix(y_teste, y_previsto_rndfrst))\n",
    "print()\n",
    "print(\"Acurácia: \", accuracy_score(  y_teste,y_previsto_rndfrst))\n",
    "print(\"Precisão: \", precision_score( y_teste,y_previsto_rndfrst, pos_label='0'))\n",
    "print(\"Recall  : \", recall_score(    y_teste,y_previsto_rndfrst, pos_label='0'))\n",
    "print(\"F1      : \", f1_score(        y_teste,y_previsto_rndfrst, pos_label='0'))"
   ]
  },
  {
   "cell_type": "markdown",
   "metadata": {
    "id": "NgFLFsVL9sso"
   },
   "source": [
    "## Bagging"
   ]
  },
  {
   "cell_type": "markdown",
   "metadata": {
    "id": "9Hx7c9QI9vkF"
   },
   "source": [
    "### Imports"
   ]
  },
  {
   "cell_type": "code",
   "execution_count": 66,
   "metadata": {
    "id": "XZPBoj0a96RP"
   },
   "outputs": [],
   "source": [
    "from sklearn.ensemble import BaggingClassifier"
   ]
  },
  {
   "cell_type": "markdown",
   "metadata": {
    "id": "EAzCqkSG9x_7"
   },
   "source": [
    "### Treinamento"
   ]
  },
  {
   "cell_type": "code",
   "execution_count": 67,
   "metadata": {
    "colab": {
     "base_uri": "https://localhost:8080/"
    },
    "id": "zHNIeAXc98H4",
    "outputId": "d72f1d89-a2b6-410e-9152-ee815864ddae"
   },
   "outputs": [
    {
     "data": {
      "text/plain": [
       "array(['0', '1'], dtype=object)"
      ]
     },
     "execution_count": 67,
     "metadata": {},
     "output_type": "execute_result"
    }
   ],
   "source": [
    "log_reg_bagg = BaggingClassifier(LogisticRegression(max_iter=300),\n",
    "                                 n_estimators=100, max_features=0.7, max_samples=0.5, n_jobs=-1)\n",
    "log_reg_bagg.fit(X_treino, y_treino)\n",
    "log_reg_bagg.classes_"
   ]
  },
  {
   "cell_type": "code",
   "execution_count": 68,
   "metadata": {
    "colab": {
     "base_uri": "https://localhost:8080/"
    },
    "id": "TGaYZjYa-AMS",
    "outputId": "03696c88-1eec-4ec6-9449-36c55a712be1"
   },
   "outputs": [
    {
     "data": {
      "text/plain": [
       "array([[0.38, 0.62],\n",
       "       [0.58, 0.42],\n",
       "       [0.57, 0.43],\n",
       "       [0.23, 0.77],\n",
       "       [0.32, 0.68],\n",
       "       [0.5 , 0.5 ],\n",
       "       [0.35, 0.65],\n",
       "       [0.27, 0.73],\n",
       "       [0.25, 0.75],\n",
       "       [0.77, 0.23]])"
      ]
     },
     "execution_count": 68,
     "metadata": {},
     "output_type": "execute_result"
    }
   ],
   "source": [
    "# probabilidade por bagging de regressao logisitica\n",
    "\n",
    "y_probabilidade_bagging = log_reg_bagg.predict_proba(X_teste)\n",
    "np.round(y_probabilidade_bagging,decimals=2)[0:10]"
   ]
  },
  {
   "cell_type": "code",
   "execution_count": 69,
   "metadata": {
    "colab": {
     "base_uri": "https://localhost:8080/"
    },
    "id": "YOPbnTQt-EZE",
    "outputId": "b1b73b50-d099-4187-b779-78c6ba85e366"
   },
   "outputs": [
    {
     "data": {
      "text/plain": [
       "array(['1', '0', '0', '1', '1', '1', '1', '1', '1', '0', '1', '1', '0',\n",
       "       '0', '1', '1', '0', '1', '1', '1', '1', '1', '1', '0', '1', '1',\n",
       "       '1', '0', '1', '1', '1', '0', '0', '1', '0', '1', '1', '1', '0',\n",
       "       '1', '0', '1', '0', '1', '0', '1', '0', '1', '1', '0', '0', '1',\n",
       "       '1', '1', '1', '1', '0', '0', '1', '1', '0', '0', '1', '0', '1',\n",
       "       '1', '1', '1', '1', '0', '1', '1', '0', '1', '1', '1', '1', '1',\n",
       "       '1', '1', '1', '1', '0', '1', '1', '1', '1', '0', '0', '1', '0',\n",
       "       '1', '1', '1', '0', '0', '1', '1', '1', '1', '1', '1', '0', '1',\n",
       "       '1', '1', '0', '1', '0', '1', '1', '1', '0', '0', '1', '1', '1',\n",
       "       '0', '1', '1', '0', '0', '0', '1', '1', '0', '1', '1', '1', '1',\n",
       "       '1', '1', '1', '1', '1', '1', '0', '0', '1', '1', '1', '0', '1',\n",
       "       '1', '1', '1', '0', '0', '0', '1', '1', '0', '1', '1', '1', '1',\n",
       "       '1', '1', '1', '1', '1', '1', '0', '0', '1', '1', '0', '1', '1',\n",
       "       '1', '0', '1', '0', '1', '1', '1', '0', '1', '0', '0', '1', '0',\n",
       "       '1', '1', '1', '1', '1', '1', '0', '1', '1', '0', '0', '1', '0',\n",
       "       '1', '1', '1', '1', '1', '1', '0', '1', '1', '0', '1', '1', '1',\n",
       "       '1', '0', '1', '1', '0', '0', '1', '1', '1', '0', '1', '1', '0'],\n",
       "      dtype=object)"
      ]
     },
     "execution_count": 69,
     "metadata": {},
     "output_type": "execute_result"
    }
   ],
   "source": [
    "# previsao por bagging de regressao logisitica\n",
    "\n",
    "y_previsto_bagging = log_reg_bagg.predict(X_teste)\n",
    "y_previsto_bagging"
   ]
  },
  {
   "cell_type": "markdown",
   "metadata": {
    "id": "rjuOZ4ZE91WQ"
   },
   "source": [
    "### Avaliação de desempenho"
   ]
  },
  {
   "cell_type": "code",
   "execution_count": 70,
   "metadata": {
    "colab": {
     "base_uri": "https://localhost:8080/"
    },
    "id": "9u2IF8_I-H4N",
    "outputId": "a003c03c-ec38-4620-edc6-b261c8e073d9"
   },
   "outputs": [
    {
     "name": "stdout",
     "output_type": "stream",
     "text": [
      "Matriz de confusão:\n",
      "[[ 47  51]\n",
      " [ 21 102]]\n",
      "\n",
      "Acurácia:  0.6742081447963801\n",
      "Precisão:  0.6911764705882353\n",
      "Recall  :  0.47959183673469385\n",
      "F1      :  0.5662650602409639\n"
     ]
    }
   ],
   "source": [
    "print(\"Matriz de confusão:\")\n",
    "print(confusion_matrix(y_teste, y_previsto_bagging))\n",
    "print()\n",
    "print(\"Acurácia: \", accuracy_score(  y_teste,y_previsto_bagging))\n",
    "print(\"Precisão: \", precision_score( y_teste,y_previsto_bagging, pos_label='0'))\n",
    "print(\"Recall  : \", recall_score(    y_teste,y_previsto_bagging, pos_label='0'))\n",
    "print(\"F1      : \", f1_score(        y_teste,y_previsto_bagging, pos_label='0'))"
   ]
  },
  {
   "cell_type": "markdown",
   "metadata": {
    "id": "zi8Hbl0cr6rT"
   },
   "source": [
    "## Otimizações"
   ]
  },
  {
   "cell_type": "markdown",
   "metadata": {
    "id": "leQmmqiaLmX0"
   },
   "source": [
    "### imports"
   ]
  },
  {
   "cell_type": "code",
   "execution_count": 71,
   "metadata": {
    "id": "gahpnXH2LxqP"
   },
   "outputs": [],
   "source": [
    "from sklearn.model_selection import cross_val_score"
   ]
  },
  {
   "cell_type": "markdown",
   "metadata": {
    "id": "GgiacnJGLzpq"
   },
   "source": [
    "### protocolo de validação cruzada"
   ]
  },
  {
   "cell_type": "code",
   "execution_count": 72,
   "metadata": {
    "colab": {
     "base_uri": "https://localhost:8080/"
    },
    "id": "2BQ17aLwsIWX",
    "outputId": "b9343a19-31ce-44e7-e5db-b636b4479bf1"
   },
   "outputs": [
    {
     "name": "stdout",
     "output_type": "stream",
     "text": [
      "Acurácia em cada particionamento:  [0.6374502  0.71314741 0.692      0.668      0.664     ]\n",
      "Acurácia média..................:  0.6749195219123506\n"
     ]
    }
   ],
   "source": [
    "scores = cross_val_score(arvore, X_treino, y_treino, cv=5)\n",
    "\n",
    "print(\"Acurácia em cada particionamento: \", scores)\n",
    "print(\"Acurácia média..................: \", scores.mean())"
   ]
  },
  {
   "cell_type": "markdown",
   "metadata": {
    "id": "NalBzpcQsRjw"
   },
   "source": [
    "### Otimizando hiper-parâmetros"
   ]
  },
  {
   "cell_type": "code",
   "execution_count": 73,
   "metadata": {
    "colab": {
     "base_uri": "https://localhost:8080/"
    },
    "id": "Uwgkdj8Use4-",
    "outputId": "0f3e652d-6145-4eaf-e643-c3b7fe1b5cfb"
   },
   "outputs": [
    {
     "data": {
      "text/plain": [
       "GridSearchCV(estimator=DecisionTreeClassifier(max_depth=4),\n",
       "             param_grid=[{'max_depth': [1, 2, 3, 4, 5, 6, 7, 8, 9, 10, 11, 12,\n",
       "                                        13, 14, 15],\n",
       "                          'min_samples_leaf': [2, 3, 4, 5, 6]}])"
      ]
     },
     "execution_count": 73,
     "metadata": {},
     "output_type": "execute_result"
    }
   ],
   "source": [
    "from sklearn.model_selection import GridSearchCV\n",
    "\n",
    "param_grid = [\n",
    " {'max_depth': [1,2,3,4,5,6,7,8,9,10,11,12,13,14,15],\n",
    "  'min_samples_leaf': [2,3,4,5,6]\n",
    " }]\n",
    "\n",
    "grid_search = GridSearchCV(arvore, param_grid)\n",
    "grid_search.fit(X_treino, y_treino)"
   ]
  },
  {
   "cell_type": "code",
   "execution_count": 74,
   "metadata": {
    "colab": {
     "base_uri": "https://localhost:8080/"
    },
    "id": "XqZCB3sCskVR",
    "outputId": "9c075300-d9a6-4272-ba96-6e8324d07e49"
   },
   "outputs": [
    {
     "data": {
      "text/plain": [
       "{'max_depth': 5, 'min_samples_leaf': 2}"
      ]
     },
     "execution_count": 74,
     "metadata": {},
     "output_type": "execute_result"
    }
   ],
   "source": [
    "grid_search.best_params_"
   ]
  },
  {
   "cell_type": "code",
   "execution_count": 75,
   "metadata": {
    "colab": {
     "base_uri": "https://localhost:8080/"
    },
    "id": "1X_R91hGsl21",
    "outputId": "861ec9da-ddd6-44c6-b70f-8e86a67f1884"
   },
   "outputs": [
    {
     "name": "stdout",
     "output_type": "stream",
     "text": [
      "Acurácia da melhor árvore:  0.7330316742081447\n"
     ]
    }
   ],
   "source": [
    "y_previsto_melhor_arvore = grid_search.best_estimator_.predict(X_teste)\n",
    "print(\"Acurácia da melhor árvore: \", accuracy_score(y_teste,y_previsto_melhor_arvore))"
   ]
  },
  {
   "cell_type": "markdown",
   "metadata": {
    "id": "fAXCn3Cuocnr"
   },
   "source": [
    "# Conclusões"
   ]
  },
  {
   "cell_type": "markdown",
   "metadata": {
    "id": "-6HnNYZCTpZ_"
   },
   "source": [
    "### escolhas"
   ]
  },
  {
   "cell_type": "markdown",
   "metadata": {
    "id": "DUODPmz4ohWx"
   },
   "source": [
    "1. Transformamos nossa coluna alvo em binaria, pois nosso objetivo com esse trabalho de prevenção de gravides indesejada é chegar nas mulheres que não usam nenhum tipo de contraceptivo, com isso em mente, o caminho escolhido pelos membros do grupo foi de binarizar a coluna alvo, para separar entre quem não usa nenhum metodo e quem usa qualquer outro tipo de metodo contraceptivo.\n",
    "\n",
    "\n",
    "2. Iremos optar por escolher o recall, pois, não precisamos nos importar em selecionar somente os verdadeiros positivos."
   ]
  },
  {
   "cell_type": "markdown",
   "metadata": {
    "id": "e5wv9tsLTulB"
   },
   "source": [
    "### definições"
   ]
  },
  {
   "cell_type": "markdown",
   "metadata": {
    "id": "xLoxgsoITy5M"
   },
   "source": [
    "1. A escolha do max_depth feita pelo grupo foi de 4, pois foi a que apresentou o melhor recall na árvore de decisão.\n",
    "\n",
    "\n",
    "2. Por ter apresentado o melhor recall o modelo escolhido foi da árvore de decisão, que apresentou um recall de 73%, sendo assim entrega uma solução boa para o nosso problema, não excelente, mas boa.\n",
    "\n",
    "\n",
    "\n"
   ]
  }
 ],
 "metadata": {
  "colab": {
   "collapsed_sections": [],
   "name": "SGBD-G4.ipynb",
   "provenance": [],
   "toc_visible": true
  },
  "kernelspec": {
   "display_name": "Python 3",
   "language": "python",
   "name": "python3"
  },
  "language_info": {
   "codemirror_mode": {
    "name": "ipython",
    "version": 3
   },
   "file_extension": ".py",
   "mimetype": "text/x-python",
   "name": "python",
   "nbconvert_exporter": "python",
   "pygments_lexer": "ipython3",
   "version": "3.8.8"
  }
 },
 "nbformat": 4,
 "nbformat_minor": 1
}
